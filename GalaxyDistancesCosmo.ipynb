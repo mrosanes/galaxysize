{
 "cells": [
  {
   "cell_type": "code",
   "execution_count": 1,
   "metadata": {},
   "outputs": [],
   "source": [
    "%run \"galaxyclusters.py\""
   ]
  },
  {
   "cell_type": "code",
   "execution_count": 4,
   "metadata": {},
   "outputs": [],
   "source": [
    "import json\n",
    "import numpy as np\n",
    "import pandas as pd\n",
    "\n",
    "galaxies_json_fname = \"cluster_and_field_galaxies_data.json\"\n",
    "with open(galaxies_json_fname, \"r\") as galaxies_file:\n",
    "    galaxies_dict = json.load(galaxies_file)"
   ]
  },
  {
   "cell_type": "code",
   "execution_count": 5,
   "metadata": {},
   "outputs": [
    {
     "name": "stdout",
     "output_type": "stream",
     "text": [
      "['ra', 'dec', 'deVRad_r', 'z', 'Da [Mpc]', 'theta [rad]', 'd [kpc]']\n"
     ]
    }
   ],
   "source": [
    "print(galaxies_dict[\"header_field\"])\n",
    "column_names = ['ra [°]', 'dec [°]', 'R [asec]', 'z', 'Da [Mpc]', 'θ_diam [rad]', 'd [kpc]']"
   ]
  },
  {
   "cell_type": "code",
   "execution_count": 6,
   "metadata": {},
   "outputs": [],
   "source": [
    "tables_style = {\"selector\": \"caption\",  \n",
    "                \"props\": [(\"caption-side\", \"bottom\"),\n",
    "                          (\"color\", \"black\")]\n",
    "               }"
   ]
  },
  {
   "cell_type": "code",
   "execution_count": 7,
   "metadata": {},
   "outputs": [],
   "source": [
    "# FIELD #\n",
    "# Cluster name (or field)\n",
    "cluster_name = \"field\"\n",
    "data_galaxies = galaxies_dict[\"data_\" + cluster_name]\n",
    "\n",
    "df_galaxies_field = pd.DataFrame(data_galaxies, columns=column_names)\n",
    "df_galaxies_field.index = np.arange(1, len(data_galaxies) + 1)"
   ]
  },
  {
   "cell_type": "code",
   "execution_count": 8,
   "metadata": {},
   "outputs": [],
   "source": [
    "# VIRGO #\n",
    "cluster_name = \"virgo\"\n",
    "data_galaxies = galaxies_dict[\"data_\" + cluster_name]\n",
    "\n",
    "df_galaxies_virgo = pd.DataFrame(data_galaxies, columns=column_names)\n",
    "df_galaxies_virgo.index = np.arange(1, len(data_galaxies) + 1)"
   ]
  },
  {
   "cell_type": "code",
   "execution_count": 9,
   "metadata": {},
   "outputs": [],
   "source": [
    "# COMA #\n",
    "cluster_name = \"coma\"\n",
    "data_galaxies = galaxies_dict[\"data_\" + cluster_name]\n",
    "\n",
    "df_galaxies_coma = pd.DataFrame(data_galaxies, columns=column_names)\n",
    "df_galaxies_coma.index = np.arange(1, len(data_galaxies) + 1)"
   ]
  },
  {
   "cell_type": "code",
   "execution_count": 13,
   "metadata": {},
   "outputs": [],
   "source": [
    "# ABELL85 #\n",
    "cluster_name = \"abell85\"\n",
    "data_galaxies = galaxies_dict[\"data_\" + cluster_name]\n",
    "\n",
    "df_galaxies_abell85 = pd.DataFrame(data_galaxies, columns=column_names)\n",
    "df_galaxies_abell85.index = np.arange(1, len(data_galaxies) + 1)"
   ]
  },
  {
   "cell_type": "code",
   "execution_count": 14,
   "metadata": {},
   "outputs": [
    {
     "data": {
      "text/html": [
       "<style  type=\"text/css\" >\n",
       "    #T_c6525582_7ca9_11ec_8677_2d1ffac598ab caption {\n",
       "          caption-side: bottom;\n",
       "          color: black;\n",
       "    }</style><table id=\"T_c6525582_7ca9_11ec_8677_2d1ffac598ab\" ><caption>Table 2: Datos de galaxias de campo a z>0.1, incluyendo su tamaño físico</caption><thead>    <tr>        <th class=\"blank level0\" ></th>        <th class=\"col_heading level0 col0\" >ra [°]</th>        <th class=\"col_heading level0 col1\" >dec [°]</th>        <th class=\"col_heading level0 col2\" >R [asec]</th>        <th class=\"col_heading level0 col3\" >z</th>        <th class=\"col_heading level0 col4\" >Da [Mpc]</th>        <th class=\"col_heading level0 col5\" >θ_diam [rad]</th>        <th class=\"col_heading level0 col6\" >d [kpc]</th>    </tr></thead><tbody>\n",
       "                <tr>\n",
       "                        <th id=\"T_c6525582_7ca9_11ec_8677_2d1ffac598ablevel0_row0\" class=\"row_heading level0 row0\" >1</th>\n",
       "                        <td id=\"T_c6525582_7ca9_11ec_8677_2d1ffac598abrow0_col0\" class=\"data row0 col0\" >203.622</td>\n",
       "                        <td id=\"T_c6525582_7ca9_11ec_8677_2d1ffac598abrow0_col1\" class=\"data row0 col1\" >13.1137</td>\n",
       "                        <td id=\"T_c6525582_7ca9_11ec_8677_2d1ffac598abrow0_col2\" class=\"data row0 col2\" >4.8072</td>\n",
       "                        <td id=\"T_c6525582_7ca9_11ec_8677_2d1ffac598abrow0_col3\" class=\"data row0 col3\" >0.186892</td>\n",
       "                        <td id=\"T_c6525582_7ca9_11ec_8677_2d1ffac598abrow0_col4\" class=\"data row0 col4\" >638.433</td>\n",
       "                        <td id=\"T_c6525582_7ca9_11ec_8677_2d1ffac598abrow0_col5\" class=\"data row0 col5\" >4.66119e-05</td>\n",
       "                        <td id=\"T_c6525582_7ca9_11ec_8677_2d1ffac598abrow0_col6\" class=\"data row0 col6\" >29.7586</td>\n",
       "            </tr>\n",
       "            <tr>\n",
       "                        <th id=\"T_c6525582_7ca9_11ec_8677_2d1ffac598ablevel0_row1\" class=\"row_heading level0 row1\" >2</th>\n",
       "                        <td id=\"T_c6525582_7ca9_11ec_8677_2d1ffac598abrow1_col0\" class=\"data row1 col0\" >202.302</td>\n",
       "                        <td id=\"T_c6525582_7ca9_11ec_8677_2d1ffac598abrow1_col1\" class=\"data row1 col1\" >13.6497</td>\n",
       "                        <td id=\"T_c6525582_7ca9_11ec_8677_2d1ffac598abrow1_col2\" class=\"data row1 col2\" >1.87581</td>\n",
       "                        <td id=\"T_c6525582_7ca9_11ec_8677_2d1ffac598abrow1_col3\" class=\"data row1 col3\" >0.143481</td>\n",
       "                        <td id=\"T_c6525582_7ca9_11ec_8677_2d1ffac598abrow1_col4\" class=\"data row1 col4\" >513.675</td>\n",
       "                        <td id=\"T_c6525582_7ca9_11ec_8677_2d1ffac598abrow1_col5\" class=\"data row1 col5\" >1.81884e-05</td>\n",
       "                        <td id=\"T_c6525582_7ca9_11ec_8677_2d1ffac598abrow1_col6\" class=\"data row1 col6\" >9.34293</td>\n",
       "            </tr>\n",
       "            <tr>\n",
       "                        <th id=\"T_c6525582_7ca9_11ec_8677_2d1ffac598ablevel0_row2\" class=\"row_heading level0 row2\" >3</th>\n",
       "                        <td id=\"T_c6525582_7ca9_11ec_8677_2d1ffac598abrow2_col0\" class=\"data row2 col0\" >201.661</td>\n",
       "                        <td id=\"T_c6525582_7ca9_11ec_8677_2d1ffac598abrow2_col1\" class=\"data row2 col1\" >13.3364</td>\n",
       "                        <td id=\"T_c6525582_7ca9_11ec_8677_2d1ffac598abrow2_col2\" class=\"data row2 col2\" >1.53156</td>\n",
       "                        <td id=\"T_c6525582_7ca9_11ec_8677_2d1ffac598abrow2_col3\" class=\"data row2 col3\" >0.150226</td>\n",
       "                        <td id=\"T_c6525582_7ca9_11ec_8677_2d1ffac598abrow2_col4\" class=\"data row2 col4\" >534.045</td>\n",
       "                        <td id=\"T_c6525582_7ca9_11ec_8677_2d1ffac598abrow2_col5\" class=\"data row2 col5\" >1.48504e-05</td>\n",
       "                        <td id=\"T_c6525582_7ca9_11ec_8677_2d1ffac598abrow2_col6\" class=\"data row2 col6\" >7.93077</td>\n",
       "            </tr>\n",
       "            <tr>\n",
       "                        <th id=\"T_c6525582_7ca9_11ec_8677_2d1ffac598ablevel0_row3\" class=\"row_heading level0 row3\" >4</th>\n",
       "                        <td id=\"T_c6525582_7ca9_11ec_8677_2d1ffac598abrow3_col0\" class=\"data row3 col0\" >201.131</td>\n",
       "                        <td id=\"T_c6525582_7ca9_11ec_8677_2d1ffac598abrow3_col1\" class=\"data row3 col1\" >14.0988</td>\n",
       "                        <td id=\"T_c6525582_7ca9_11ec_8677_2d1ffac598abrow3_col2\" class=\"data row3 col2\" >5.48727</td>\n",
       "                        <td id=\"T_c6525582_7ca9_11ec_8677_2d1ffac598abrow3_col3\" class=\"data row3 col3\" >0.359472</td>\n",
       "                        <td id=\"T_c6525582_7ca9_11ec_8677_2d1ffac598abrow3_col4\" class=\"data row3 col4\" >1029.89</td>\n",
       "                        <td id=\"T_c6525582_7ca9_11ec_8677_2d1ffac598abrow3_col5\" class=\"data row3 col5\" >5.32061e-05</td>\n",
       "                        <td id=\"T_c6525582_7ca9_11ec_8677_2d1ffac598abrow3_col6\" class=\"data row3 col6\" >54.7966</td>\n",
       "            </tr>\n",
       "            <tr>\n",
       "                        <th id=\"T_c6525582_7ca9_11ec_8677_2d1ffac598ablevel0_row4\" class=\"row_heading level0 row4\" >5</th>\n",
       "                        <td id=\"T_c6525582_7ca9_11ec_8677_2d1ffac598abrow4_col0\" class=\"data row4 col0\" >201.131</td>\n",
       "                        <td id=\"T_c6525582_7ca9_11ec_8677_2d1ffac598abrow4_col1\" class=\"data row4 col1\" >14.1613</td>\n",
       "                        <td id=\"T_c6525582_7ca9_11ec_8677_2d1ffac598abrow4_col2\" class=\"data row4 col2\" >2.95986</td>\n",
       "                        <td id=\"T_c6525582_7ca9_11ec_8677_2d1ffac598abrow4_col3\" class=\"data row4 col3\" >0.15019</td>\n",
       "                        <td id=\"T_c6525582_7ca9_11ec_8677_2d1ffac598abrow4_col4\" class=\"data row4 col4\" >533.752</td>\n",
       "                        <td id=\"T_c6525582_7ca9_11ec_8677_2d1ffac598abrow4_col5\" class=\"data row4 col5\" >2.86997e-05</td>\n",
       "                        <td id=\"T_c6525582_7ca9_11ec_8677_2d1ffac598abrow4_col6\" class=\"data row4 col6\" >15.3185</td>\n",
       "            </tr>\n",
       "            <tr>\n",
       "                        <th id=\"T_c6525582_7ca9_11ec_8677_2d1ffac598ablevel0_row5\" class=\"row_heading level0 row5\" >6</th>\n",
       "                        <td id=\"T_c6525582_7ca9_11ec_8677_2d1ffac598abrow5_col0\" class=\"data row5 col0\" >201.648</td>\n",
       "                        <td id=\"T_c6525582_7ca9_11ec_8677_2d1ffac598abrow5_col1\" class=\"data row5 col1\" >13.3489</td>\n",
       "                        <td id=\"T_c6525582_7ca9_11ec_8677_2d1ffac598abrow5_col2\" class=\"data row5 col2\" >5.69067</td>\n",
       "                        <td id=\"T_c6525582_7ca9_11ec_8677_2d1ffac598abrow5_col3\" class=\"data row5 col3\" >0.149507</td>\n",
       "                        <td id=\"T_c6525582_7ca9_11ec_8677_2d1ffac598abrow5_col4\" class=\"data row5 col4\" >531.963</td>\n",
       "                        <td id=\"T_c6525582_7ca9_11ec_8677_2d1ffac598abrow5_col5\" class=\"data row5 col5\" >5.51783e-05</td>\n",
       "                        <td id=\"T_c6525582_7ca9_11ec_8677_2d1ffac598abrow5_col6\" class=\"data row5 col6\" >29.3528</td>\n",
       "            </tr>\n",
       "            <tr>\n",
       "                        <th id=\"T_c6525582_7ca9_11ec_8677_2d1ffac598ablevel0_row6\" class=\"row_heading level0 row6\" >7</th>\n",
       "                        <td id=\"T_c6525582_7ca9_11ec_8677_2d1ffac598abrow6_col0\" class=\"data row6 col0\" >200.997</td>\n",
       "                        <td id=\"T_c6525582_7ca9_11ec_8677_2d1ffac598abrow6_col1\" class=\"data row6 col1\" >13.6498</td>\n",
       "                        <td id=\"T_c6525582_7ca9_11ec_8677_2d1ffac598abrow6_col2\" class=\"data row6 col2\" >3.29677</td>\n",
       "                        <td id=\"T_c6525582_7ca9_11ec_8677_2d1ffac598abrow6_col3\" class=\"data row6 col3\" >0.491788</td>\n",
       "                        <td id=\"T_c6525582_7ca9_11ec_8677_2d1ffac598abrow6_col4\" class=\"data row6 col4\" >1243.1</td>\n",
       "                        <td id=\"T_c6525582_7ca9_11ec_8677_2d1ffac598abrow6_col5\" class=\"data row6 col5\" >3.19664e-05</td>\n",
       "                        <td id=\"T_c6525582_7ca9_11ec_8677_2d1ffac598abrow6_col6\" class=\"data row6 col6\" >39.7373</td>\n",
       "            </tr>\n",
       "            <tr>\n",
       "                        <th id=\"T_c6525582_7ca9_11ec_8677_2d1ffac598ablevel0_row7\" class=\"row_heading level0 row7\" >8</th>\n",
       "                        <td id=\"T_c6525582_7ca9_11ec_8677_2d1ffac598abrow7_col0\" class=\"data row7 col0\" >200.991</td>\n",
       "                        <td id=\"T_c6525582_7ca9_11ec_8677_2d1ffac598abrow7_col1\" class=\"data row7 col1\" >15.0287</td>\n",
       "                        <td id=\"T_c6525582_7ca9_11ec_8677_2d1ffac598abrow7_col2\" class=\"data row7 col2\" >0.580912</td>\n",
       "                        <td id=\"T_c6525582_7ca9_11ec_8677_2d1ffac598abrow7_col3\" class=\"data row7 col3\" >0.405585</td>\n",
       "                        <td id=\"T_c6525582_7ca9_11ec_8677_2d1ffac598abrow7_col4\" class=\"data row7 col4\" >1111.38</td>\n",
       "                        <td id=\"T_c6525582_7ca9_11ec_8677_2d1ffac598abrow7_col5\" class=\"data row7 col5\" >5.6327e-06</td>\n",
       "                        <td id=\"T_c6525582_7ca9_11ec_8677_2d1ffac598abrow7_col6\" class=\"data row7 col6\" >6.26007</td>\n",
       "            </tr>\n",
       "            <tr>\n",
       "                        <th id=\"T_c6525582_7ca9_11ec_8677_2d1ffac598ablevel0_row8\" class=\"row_heading level0 row8\" >9</th>\n",
       "                        <td id=\"T_c6525582_7ca9_11ec_8677_2d1ffac598abrow8_col0\" class=\"data row8 col0\" >201.992</td>\n",
       "                        <td id=\"T_c6525582_7ca9_11ec_8677_2d1ffac598abrow8_col1\" class=\"data row8 col1\" >13.4914</td>\n",
       "                        <td id=\"T_c6525582_7ca9_11ec_8677_2d1ffac598abrow8_col2\" class=\"data row8 col2\" >0.329477</td>\n",
       "                        <td id=\"T_c6525582_7ca9_11ec_8677_2d1ffac598abrow8_col3\" class=\"data row8 col3\" >0.436913</td>\n",
       "                        <td id=\"T_c6525582_7ca9_11ec_8677_2d1ffac598abrow8_col4\" class=\"data row8 col4\" >1162.31</td>\n",
       "                        <td id=\"T_c6525582_7ca9_11ec_8677_2d1ffac598abrow8_col5\" class=\"data row8 col5\" >3.1947e-06</td>\n",
       "                        <td id=\"T_c6525582_7ca9_11ec_8677_2d1ffac598abrow8_col6\" class=\"data row8 col6\" >3.71321</td>\n",
       "            </tr>\n",
       "            <tr>\n",
       "                        <th id=\"T_c6525582_7ca9_11ec_8677_2d1ffac598ablevel0_row9\" class=\"row_heading level0 row9\" >10</th>\n",
       "                        <td id=\"T_c6525582_7ca9_11ec_8677_2d1ffac598abrow9_col0\" class=\"data row9 col0\" >202.064</td>\n",
       "                        <td id=\"T_c6525582_7ca9_11ec_8677_2d1ffac598abrow9_col1\" class=\"data row9 col1\" >13.3875</td>\n",
       "                        <td id=\"T_c6525582_7ca9_11ec_8677_2d1ffac598abrow9_col2\" class=\"data row9 col2\" >5.1167</td>\n",
       "                        <td id=\"T_c6525582_7ca9_11ec_8677_2d1ffac598abrow9_col3\" class=\"data row9 col3\" >0.144455</td>\n",
       "                        <td id=\"T_c6525582_7ca9_11ec_8677_2d1ffac598abrow9_col4\" class=\"data row9 col4\" >516.687</td>\n",
       "                        <td id=\"T_c6525582_7ca9_11ec_8677_2d1ffac598abrow9_col5\" class=\"data row9 col5\" >4.96129e-05</td>\n",
       "                        <td id=\"T_c6525582_7ca9_11ec_8677_2d1ffac598abrow9_col6\" class=\"data row9 col6\" >25.6344</td>\n",
       "            </tr>\n",
       "    </tbody></table>"
      ],
      "text/plain": [
       "<pandas.io.formats.style.Styler at 0x7f41dc00eac0>"
      ]
     },
     "execution_count": 14,
     "metadata": {},
     "output_type": "execute_result"
    }
   ],
   "source": [
    "table_field_galaxies = df_galaxies_field.head(10)\n",
    "caption = \"Table 2: Datos de galaxias de campo a z>0.1, incluyendo su tamaño físico\"\n",
    "table_field_galaxies.style.set_caption(caption).set_table_styles([tables_style])"
   ]
  },
  {
   "cell_type": "code",
   "execution_count": 15,
   "metadata": {},
   "outputs": [
    {
     "data": {
      "text/html": [
       "<style  type=\"text/css\" >\n",
       "    #T_c6525583_7ca9_11ec_8677_2d1ffac598ab caption {\n",
       "          caption-side: bottom;\n",
       "          color: black;\n",
       "    }</style><table id=\"T_c6525583_7ca9_11ec_8677_2d1ffac598ab\" ><caption>Table 3: Datos de galaxias de Virgo Cluster, incluyendo su tamaño físico</caption><thead>    <tr>        <th class=\"blank level0\" ></th>        <th class=\"col_heading level0 col0\" >ra [°]</th>        <th class=\"col_heading level0 col1\" >dec [°]</th>        <th class=\"col_heading level0 col2\" >R [asec]</th>        <th class=\"col_heading level0 col3\" >z</th>        <th class=\"col_heading level0 col4\" >Da [Mpc]</th>        <th class=\"col_heading level0 col5\" >θ_diam [rad]</th>        <th class=\"col_heading level0 col6\" >d [kpc]</th>    </tr></thead><tbody>\n",
       "                <tr>\n",
       "                        <th id=\"T_c6525583_7ca9_11ec_8677_2d1ffac598ablevel0_row0\" class=\"row_heading level0 row0\" >1</th>\n",
       "                        <td id=\"T_c6525583_7ca9_11ec_8677_2d1ffac598abrow0_col0\" class=\"data row0 col0\" >190.759</td>\n",
       "                        <td id=\"T_c6525583_7ca9_11ec_8677_2d1ffac598abrow0_col1\" class=\"data row0 col1\" >11.698</td>\n",
       "                        <td id=\"T_c6525583_7ca9_11ec_8677_2d1ffac598abrow0_col2\" class=\"data row0 col2\" >4.09239</td>\n",
       "                        <td id=\"T_c6525583_7ca9_11ec_8677_2d1ffac598abrow0_col3\" class=\"data row0 col3\" >0.0036885</td>\n",
       "                        <td id=\"T_c6525583_7ca9_11ec_8677_2d1ffac598abrow0_col4\" class=\"data row0 col4\" >15.1309</td>\n",
       "                        <td id=\"T_c6525583_7ca9_11ec_8677_2d1ffac598abrow0_col5\" class=\"data row0 col5\" >3.96809e-05</td>\n",
       "                        <td id=\"T_c6525583_7ca9_11ec_8677_2d1ffac598abrow0_col6\" class=\"data row0 col6\" >0.60041</td>\n",
       "            </tr>\n",
       "            <tr>\n",
       "                        <th id=\"T_c6525583_7ca9_11ec_8677_2d1ffac598ablevel0_row1\" class=\"row_heading level0 row1\" >2</th>\n",
       "                        <td id=\"T_c6525583_7ca9_11ec_8677_2d1ffac598abrow1_col0\" class=\"data row1 col0\" >189.135</td>\n",
       "                        <td id=\"T_c6525583_7ca9_11ec_8677_2d1ffac598abrow1_col1\" class=\"data row1 col1\" >13.7484</td>\n",
       "                        <td id=\"T_c6525583_7ca9_11ec_8677_2d1ffac598abrow1_col2\" class=\"data row1 col2\" >29.6679</td>\n",
       "                        <td id=\"T_c6525583_7ca9_11ec_8677_2d1ffac598abrow1_col3\" class=\"data row1 col3\" >0.00290679</td>\n",
       "                        <td id=\"T_c6525583_7ca9_11ec_8677_2d1ffac598abrow1_col4\" class=\"data row1 col4\" >12.1991</td>\n",
       "                        <td id=\"T_c6525583_7ca9_11ec_8677_2d1ffac598abrow1_col5\" class=\"data row1 col5\" >0.000287668</td>\n",
       "                        <td id=\"T_c6525583_7ca9_11ec_8677_2d1ffac598abrow1_col6\" class=\"data row1 col6\" >3.50929</td>\n",
       "            </tr>\n",
       "            <tr>\n",
       "                        <th id=\"T_c6525583_7ca9_11ec_8677_2d1ffac598ablevel0_row2\" class=\"row_heading level0 row2\" >3</th>\n",
       "                        <td id=\"T_c6525583_7ca9_11ec_8677_2d1ffac598abrow2_col0\" class=\"data row2 col0\" >189.128</td>\n",
       "                        <td id=\"T_c6525583_7ca9_11ec_8677_2d1ffac598abrow2_col1\" class=\"data row2 col1\" >13.6383</td>\n",
       "                        <td id=\"T_c6525583_7ca9_11ec_8677_2d1ffac598abrow2_col2\" class=\"data row2 col2\" >29.6708</td>\n",
       "                        <td id=\"T_c6525583_7ca9_11ec_8677_2d1ffac598abrow2_col3\" class=\"data row2 col3\" >0.00251121</td>\n",
       "                        <td id=\"T_c6525583_7ca9_11ec_8677_2d1ffac598abrow2_col4\" class=\"data row2 col4\" >10.5273</td>\n",
       "                        <td id=\"T_c6525583_7ca9_11ec_8677_2d1ffac598abrow2_col5\" class=\"data row2 col5\" >0.000287696</td>\n",
       "                        <td id=\"T_c6525583_7ca9_11ec_8677_2d1ffac598abrow2_col6\" class=\"data row2 col6\" >3.02866</td>\n",
       "            </tr>\n",
       "            <tr>\n",
       "                        <th id=\"T_c6525583_7ca9_11ec_8677_2d1ffac598ablevel0_row3\" class=\"row_heading level0 row3\" >4</th>\n",
       "                        <td id=\"T_c6525583_7ca9_11ec_8677_2d1ffac598abrow3_col0\" class=\"data row3 col0\" >189.54</td>\n",
       "                        <td id=\"T_c6525583_7ca9_11ec_8677_2d1ffac598abrow3_col1\" class=\"data row3 col1\" >13.5809</td>\n",
       "                        <td id=\"T_c6525583_7ca9_11ec_8677_2d1ffac598abrow3_col2\" class=\"data row3 col2\" >0.314362</td>\n",
       "                        <td id=\"T_c6525583_7ca9_11ec_8677_2d1ffac598abrow3_col3\" class=\"data row3 col3\" >0.0020293</td>\n",
       "                        <td id=\"T_c6525583_7ca9_11ec_8677_2d1ffac598abrow3_col4\" class=\"data row3 col4\" >8.4263</td>\n",
       "                        <td id=\"T_c6525583_7ca9_11ec_8677_2d1ffac598abrow3_col5\" class=\"data row3 col5\" >3.0481e-06</td>\n",
       "                        <td id=\"T_c6525583_7ca9_11ec_8677_2d1ffac598abrow3_col6\" class=\"data row3 col6\" >0.02568</td>\n",
       "            </tr>\n",
       "            <tr>\n",
       "                        <th id=\"T_c6525583_7ca9_11ec_8677_2d1ffac598ablevel0_row4\" class=\"row_heading level0 row4\" >5</th>\n",
       "                        <td id=\"T_c6525583_7ca9_11ec_8677_2d1ffac598abrow4_col0\" class=\"data row4 col0\" >190.61</td>\n",
       "                        <td id=\"T_c6525583_7ca9_11ec_8677_2d1ffac598abrow4_col1\" class=\"data row4 col1\" >11.7403</td>\n",
       "                        <td id=\"T_c6525583_7ca9_11ec_8677_2d1ffac598abrow4_col2\" class=\"data row4 col2\" >29.6675</td>\n",
       "                        <td id=\"T_c6525583_7ca9_11ec_8677_2d1ffac598abrow4_col3\" class=\"data row4 col3\" >0.00375927</td>\n",
       "                        <td id=\"T_c6525583_7ca9_11ec_8677_2d1ffac598abrow4_col4\" class=\"data row4 col4\" >15.5547</td>\n",
       "                        <td id=\"T_c6525583_7ca9_11ec_8677_2d1ffac598abrow4_col5\" class=\"data row4 col5\" >0.000287664</td>\n",
       "                        <td id=\"T_c6525583_7ca9_11ec_8677_2d1ffac598abrow4_col6\" class=\"data row4 col6\" >4.47452</td>\n",
       "            </tr>\n",
       "            <tr>\n",
       "                        <th id=\"T_c6525583_7ca9_11ec_8677_2d1ffac598ablevel0_row5\" class=\"row_heading level0 row5\" >6</th>\n",
       "                        <td id=\"T_c6525583_7ca9_11ec_8677_2d1ffac598abrow5_col0\" class=\"data row5 col0\" >190.481</td>\n",
       "                        <td id=\"T_c6525583_7ca9_11ec_8677_2d1ffac598abrow5_col1\" class=\"data row5 col1\" >11.6677</td>\n",
       "                        <td id=\"T_c6525583_7ca9_11ec_8677_2d1ffac598abrow5_col2\" class=\"data row5 col2\" >0.403459</td>\n",
       "                        <td id=\"T_c6525583_7ca9_11ec_8677_2d1ffac598abrow5_col3\" class=\"data row5 col3\" >0.00236924</td>\n",
       "                        <td id=\"T_c6525583_7ca9_11ec_8677_2d1ffac598abrow5_col4\" class=\"data row5 col4\" >9.6854</td>\n",
       "                        <td id=\"T_c6525583_7ca9_11ec_8677_2d1ffac598abrow5_col5\" class=\"data row5 col5\" >3.912e-06</td>\n",
       "                        <td id=\"T_c6525583_7ca9_11ec_8677_2d1ffac598abrow5_col6\" class=\"data row5 col6\" >0.03789</td>\n",
       "            </tr>\n",
       "            <tr>\n",
       "                        <th id=\"T_c6525583_7ca9_11ec_8677_2d1ffac598ablevel0_row6\" class=\"row_heading level0 row6\" >7</th>\n",
       "                        <td id=\"T_c6525583_7ca9_11ec_8677_2d1ffac598abrow6_col0\" class=\"data row6 col0\" >190.782</td>\n",
       "                        <td id=\"T_c6525583_7ca9_11ec_8677_2d1ffac598abrow6_col1\" class=\"data row6 col1\" >12.0512</td>\n",
       "                        <td id=\"T_c6525583_7ca9_11ec_8677_2d1ffac598abrow6_col2\" class=\"data row6 col2\" >29.6743</td>\n",
       "                        <td id=\"T_c6525583_7ca9_11ec_8677_2d1ffac598abrow6_col3\" class=\"data row6 col3\" >0.00672419</td>\n",
       "                        <td id=\"T_c6525583_7ca9_11ec_8677_2d1ffac598abrow6_col4\" class=\"data row6 col4\" >28.0627</td>\n",
       "                        <td id=\"T_c6525583_7ca9_11ec_8677_2d1ffac598abrow6_col5\" class=\"data row6 col5\" >0.00028773</td>\n",
       "                        <td id=\"T_c6525583_7ca9_11ec_8677_2d1ffac598abrow6_col6\" class=\"data row6 col6\" >8.07448</td>\n",
       "            </tr>\n",
       "            <tr>\n",
       "                        <th id=\"T_c6525583_7ca9_11ec_8677_2d1ffac598ablevel0_row7\" class=\"row_heading level0 row7\" >8</th>\n",
       "                        <td id=\"T_c6525583_7ca9_11ec_8677_2d1ffac598abrow7_col0\" class=\"data row7 col0\" >190.414</td>\n",
       "                        <td id=\"T_c6525583_7ca9_11ec_8677_2d1ffac598abrow7_col1\" class=\"data row7 col1\" >12.2475</td>\n",
       "                        <td id=\"T_c6525583_7ca9_11ec_8677_2d1ffac598abrow7_col2\" class=\"data row7 col2\" >29.6745</td>\n",
       "                        <td id=\"T_c6525583_7ca9_11ec_8677_2d1ffac598abrow7_col3\" class=\"data row7 col3\" >0.00309232</td>\n",
       "                        <td id=\"T_c6525583_7ca9_11ec_8677_2d1ffac598abrow7_col4\" class=\"data row7 col4\" >12.6241</td>\n",
       "                        <td id=\"T_c6525583_7ca9_11ec_8677_2d1ffac598abrow7_col5\" class=\"data row7 col5\" >0.000287732</td>\n",
       "                        <td id=\"T_c6525583_7ca9_11ec_8677_2d1ffac598abrow7_col6\" class=\"data row7 col6\" >3.63235</td>\n",
       "            </tr>\n",
       "            <tr>\n",
       "                        <th id=\"T_c6525583_7ca9_11ec_8677_2d1ffac598ablevel0_row8\" class=\"row_heading level0 row8\" >9</th>\n",
       "                        <td id=\"T_c6525583_7ca9_11ec_8677_2d1ffac598abrow8_col0\" class=\"data row8 col0\" >190.741</td>\n",
       "                        <td id=\"T_c6525583_7ca9_11ec_8677_2d1ffac598abrow8_col1\" class=\"data row8 col1\" >12.287</td>\n",
       "                        <td id=\"T_c6525583_7ca9_11ec_8677_2d1ffac598abrow8_col2\" class=\"data row8 col2\" >29.669</td>\n",
       "                        <td id=\"T_c6525583_7ca9_11ec_8677_2d1ffac598abrow8_col3\" class=\"data row8 col3\" >0.00559601</td>\n",
       "                        <td id=\"T_c6525583_7ca9_11ec_8677_2d1ffac598abrow8_col4\" class=\"data row8 col4\" >23.0755</td>\n",
       "                        <td id=\"T_c6525583_7ca9_11ec_8677_2d1ffac598abrow8_col5\" class=\"data row8 col5\" >0.000287679</td>\n",
       "                        <td id=\"T_c6525583_7ca9_11ec_8677_2d1ffac598abrow8_col6\" class=\"data row8 col6\" >6.63833</td>\n",
       "            </tr>\n",
       "            <tr>\n",
       "                        <th id=\"T_c6525583_7ca9_11ec_8677_2d1ffac598ablevel0_row9\" class=\"row_heading level0 row9\" >10</th>\n",
       "                        <td id=\"T_c6525583_7ca9_11ec_8677_2d1ffac598abrow9_col0\" class=\"data row9 col0\" >185.324</td>\n",
       "                        <td id=\"T_c6525583_7ca9_11ec_8677_2d1ffac598abrow9_col1\" class=\"data row9 col1\" >11.5104</td>\n",
       "                        <td id=\"T_c6525583_7ca9_11ec_8677_2d1ffac598abrow9_col2\" class=\"data row9 col2\" >29.6741</td>\n",
       "                        <td id=\"T_c6525583_7ca9_11ec_8677_2d1ffac598abrow9_col3\" class=\"data row9 col3\" >0.00111957</td>\n",
       "                        <td id=\"T_c6525583_7ca9_11ec_8677_2d1ffac598abrow9_col4\" class=\"data row9 col4\" >4.6398</td>\n",
       "                        <td id=\"T_c6525583_7ca9_11ec_8677_2d1ffac598abrow9_col5\" class=\"data row9 col5\" >0.000287728</td>\n",
       "                        <td id=\"T_c6525583_7ca9_11ec_8677_2d1ffac598abrow9_col6\" class=\"data row9 col6\" >1.335</td>\n",
       "            </tr>\n",
       "    </tbody></table>"
      ],
      "text/plain": [
       "<pandas.io.formats.style.Styler at 0x7f41dc00e250>"
      ]
     },
     "execution_count": 15,
     "metadata": {},
     "output_type": "execute_result"
    }
   ],
   "source": [
    "table_virgo_galaxies = df_galaxies_virgo.head(10)\n",
    "caption = \"Table 3: Datos de galaxias de Virgo Cluster, incluyendo su tamaño físico\"\n",
    "table_virgo_galaxies.style.set_caption(caption).set_table_styles([tables_style])"
   ]
  },
  {
   "cell_type": "code",
   "execution_count": 16,
   "metadata": {
    "scrolled": false
   },
   "outputs": [
    {
     "data": {
      "text/html": [
       "<style  type=\"text/css\" >\n",
       "    #T_c78b2be0_7ca9_11ec_8677_2d1ffac598ab caption {\n",
       "          caption-side: bottom;\n",
       "          color: black;\n",
       "    }</style><table id=\"T_c78b2be0_7ca9_11ec_8677_2d1ffac598ab\" ><caption>Table 4: Datos de galaxias de Coma Cluster, incluyendo su tamaño físico</caption><thead>    <tr>        <th class=\"blank level0\" ></th>        <th class=\"col_heading level0 col0\" >ra [°]</th>        <th class=\"col_heading level0 col1\" >dec [°]</th>        <th class=\"col_heading level0 col2\" >R [asec]</th>        <th class=\"col_heading level0 col3\" >z</th>        <th class=\"col_heading level0 col4\" >Da [Mpc]</th>        <th class=\"col_heading level0 col5\" >θ_diam [rad]</th>        <th class=\"col_heading level0 col6\" >d [kpc]</th>    </tr></thead><tbody>\n",
       "                <tr>\n",
       "                        <th id=\"T_c78b2be0_7ca9_11ec_8677_2d1ffac598ablevel0_row0\" class=\"row_heading level0 row0\" >1</th>\n",
       "                        <td id=\"T_c78b2be0_7ca9_11ec_8677_2d1ffac598abrow0_col0\" class=\"data row0 col0\" >194.629</td>\n",
       "                        <td id=\"T_c78b2be0_7ca9_11ec_8677_2d1ffac598abrow0_col1\" class=\"data row0 col1\" >28.2336</td>\n",
       "                        <td id=\"T_c78b2be0_7ca9_11ec_8677_2d1ffac598abrow0_col2\" class=\"data row0 col2\" >10.5013</td>\n",
       "                        <td id=\"T_c78b2be0_7ca9_11ec_8677_2d1ffac598abrow0_col3\" class=\"data row0 col3\" >0.0242939</td>\n",
       "                        <td id=\"T_c78b2be0_7ca9_11ec_8677_2d1ffac598abrow0_col4\" class=\"data row0 col4\" >99.2769</td>\n",
       "                        <td id=\"T_c78b2be0_7ca9_11ec_8677_2d1ffac598abrow0_col5\" class=\"data row0 col5\" >0.000101823</td>\n",
       "                        <td id=\"T_c78b2be0_7ca9_11ec_8677_2d1ffac598abrow0_col6\" class=\"data row0 col6\" >10.1087</td>\n",
       "            </tr>\n",
       "            <tr>\n",
       "                        <th id=\"T_c78b2be0_7ca9_11ec_8677_2d1ffac598ablevel0_row1\" class=\"row_heading level0 row1\" >2</th>\n",
       "                        <td id=\"T_c78b2be0_7ca9_11ec_8677_2d1ffac598abrow1_col0\" class=\"data row1 col0\" >195.633</td>\n",
       "                        <td id=\"T_c78b2be0_7ca9_11ec_8677_2d1ffac598abrow1_col1\" class=\"data row1 col1\" >27.9355</td>\n",
       "                        <td id=\"T_c78b2be0_7ca9_11ec_8677_2d1ffac598abrow1_col2\" class=\"data row1 col2\" >6.2187</td>\n",
       "                        <td id=\"T_c78b2be0_7ca9_11ec_8677_2d1ffac598abrow1_col3\" class=\"data row1 col3\" >0.022083</td>\n",
       "                        <td id=\"T_c78b2be0_7ca9_11ec_8677_2d1ffac598abrow1_col4\" class=\"data row1 col4\" >90.4849</td>\n",
       "                        <td id=\"T_c78b2be0_7ca9_11ec_8677_2d1ffac598abrow1_col5\" class=\"data row1 col5\" >6.02982e-05</td>\n",
       "                        <td id=\"T_c78b2be0_7ca9_11ec_8677_2d1ffac598abrow1_col6\" class=\"data row1 col6\" >5.45608</td>\n",
       "            </tr>\n",
       "            <tr>\n",
       "                        <th id=\"T_c78b2be0_7ca9_11ec_8677_2d1ffac598ablevel0_row2\" class=\"row_heading level0 row2\" >3</th>\n",
       "                        <td id=\"T_c78b2be0_7ca9_11ec_8677_2d1ffac598abrow2_col0\" class=\"data row2 col0\" >195.504</td>\n",
       "                        <td id=\"T_c78b2be0_7ca9_11ec_8677_2d1ffac598abrow2_col1\" class=\"data row2 col1\" >27.653</td>\n",
       "                        <td id=\"T_c78b2be0_7ca9_11ec_8677_2d1ffac598abrow2_col2\" class=\"data row2 col2\" >8.10381</td>\n",
       "                        <td id=\"T_c78b2be0_7ca9_11ec_8677_2d1ffac598abrow2_col3\" class=\"data row2 col3\" >0.0236465</td>\n",
       "                        <td id=\"T_c78b2be0_7ca9_11ec_8677_2d1ffac598abrow2_col4\" class=\"data row2 col4\" >96.8832</td>\n",
       "                        <td id=\"T_c78b2be0_7ca9_11ec_8677_2d1ffac598abrow2_col5\" class=\"data row2 col5\" >7.85767e-05</td>\n",
       "                        <td id=\"T_c78b2be0_7ca9_11ec_8677_2d1ffac598abrow2_col6\" class=\"data row2 col6\" >7.61276</td>\n",
       "            </tr>\n",
       "            <tr>\n",
       "                        <th id=\"T_c78b2be0_7ca9_11ec_8677_2d1ffac598ablevel0_row3\" class=\"row_heading level0 row3\" >4</th>\n",
       "                        <td id=\"T_c78b2be0_7ca9_11ec_8677_2d1ffac598abrow3_col0\" class=\"data row3 col0\" >194.659</td>\n",
       "                        <td id=\"T_c78b2be0_7ca9_11ec_8677_2d1ffac598abrow3_col1\" class=\"data row3 col1\" >27.8226</td>\n",
       "                        <td id=\"T_c78b2be0_7ca9_11ec_8677_2d1ffac598abrow3_col2\" class=\"data row3 col2\" >15.5133</td>\n",
       "                        <td id=\"T_c78b2be0_7ca9_11ec_8677_2d1ffac598abrow3_col3\" class=\"data row3 col3\" >0.0179876</td>\n",
       "                        <td id=\"T_c78b2be0_7ca9_11ec_8677_2d1ffac598abrow3_col4\" class=\"data row3 col4\" >73.9779</td>\n",
       "                        <td id=\"T_c78b2be0_7ca9_11ec_8677_2d1ffac598abrow3_col5\" class=\"data row3 col5\" >0.000150421</td>\n",
       "                        <td id=\"T_c78b2be0_7ca9_11ec_8677_2d1ffac598abrow3_col6\" class=\"data row3 col6\" >11.1278</td>\n",
       "            </tr>\n",
       "            <tr>\n",
       "                        <th id=\"T_c78b2be0_7ca9_11ec_8677_2d1ffac598ablevel0_row4\" class=\"row_heading level0 row4\" >5</th>\n",
       "                        <td id=\"T_c78b2be0_7ca9_11ec_8677_2d1ffac598abrow4_col0\" class=\"data row4 col0\" >194.721</td>\n",
       "                        <td id=\"T_c78b2be0_7ca9_11ec_8677_2d1ffac598abrow4_col1\" class=\"data row4 col1\" >27.8134</td>\n",
       "                        <td id=\"T_c78b2be0_7ca9_11ec_8677_2d1ffac598abrow4_col2\" class=\"data row4 col2\" >6.20978</td>\n",
       "                        <td id=\"T_c78b2be0_7ca9_11ec_8677_2d1ffac598abrow4_col3\" class=\"data row4 col3\" >0.0184203</td>\n",
       "                        <td id=\"T_c78b2be0_7ca9_11ec_8677_2d1ffac598abrow4_col4\" class=\"data row4 col4\" >76.0072</td>\n",
       "                        <td id=\"T_c78b2be0_7ca9_11ec_8677_2d1ffac598abrow4_col5\" class=\"data row4 col5\" >6.02117e-05</td>\n",
       "                        <td id=\"T_c78b2be0_7ca9_11ec_8677_2d1ffac598abrow4_col6\" class=\"data row4 col6\" >4.57653</td>\n",
       "            </tr>\n",
       "            <tr>\n",
       "                        <th id=\"T_c78b2be0_7ca9_11ec_8677_2d1ffac598ablevel0_row5\" class=\"row_heading level0 row5\" >6</th>\n",
       "                        <td id=\"T_c78b2be0_7ca9_11ec_8677_2d1ffac598abrow5_col0\" class=\"data row5 col0\" >194.728</td>\n",
       "                        <td id=\"T_c78b2be0_7ca9_11ec_8677_2d1ffac598abrow5_col1\" class=\"data row5 col1\" >27.7956</td>\n",
       "                        <td id=\"T_c78b2be0_7ca9_11ec_8677_2d1ffac598abrow5_col2\" class=\"data row5 col2\" >6.37435</td>\n",
       "                        <td id=\"T_c78b2be0_7ca9_11ec_8677_2d1ffac598abrow5_col3\" class=\"data row5 col3\" >0.0215821</td>\n",
       "                        <td id=\"T_c78b2be0_7ca9_11ec_8677_2d1ffac598abrow5_col4\" class=\"data row5 col4\" >88.4843</td>\n",
       "                        <td id=\"T_c78b2be0_7ca9_11ec_8677_2d1ffac598abrow5_col5\" class=\"data row5 col5\" >6.18075e-05</td>\n",
       "                        <td id=\"T_c78b2be0_7ca9_11ec_8677_2d1ffac598abrow5_col6\" class=\"data row5 col6\" >5.46899</td>\n",
       "            </tr>\n",
       "            <tr>\n",
       "                        <th id=\"T_c78b2be0_7ca9_11ec_8677_2d1ffac598ablevel0_row6\" class=\"row_heading level0 row6\" >7</th>\n",
       "                        <td id=\"T_c78b2be0_7ca9_11ec_8677_2d1ffac598abrow6_col0\" class=\"data row6 col0\" >194.736</td>\n",
       "                        <td id=\"T_c78b2be0_7ca9_11ec_8677_2d1ffac598abrow6_col1\" class=\"data row6 col1\" >27.822</td>\n",
       "                        <td id=\"T_c78b2be0_7ca9_11ec_8677_2d1ffac598abrow6_col2\" class=\"data row6 col2\" >7.56097</td>\n",
       "                        <td id=\"T_c78b2be0_7ca9_11ec_8677_2d1ffac598abrow6_col3\" class=\"data row6 col3\" >0.0290466</td>\n",
       "                        <td id=\"T_c78b2be0_7ca9_11ec_8677_2d1ffac598abrow6_col4\" class=\"data row6 col4\" >118.299</td>\n",
       "                        <td id=\"T_c78b2be0_7ca9_11ec_8677_2d1ffac598abrow6_col5\" class=\"data row6 col5\" >7.33132e-05</td>\n",
       "                        <td id=\"T_c78b2be0_7ca9_11ec_8677_2d1ffac598abrow6_col6\" class=\"data row6 col6\" >8.67289</td>\n",
       "            </tr>\n",
       "            <tr>\n",
       "                        <th id=\"T_c78b2be0_7ca9_11ec_8677_2d1ffac598ablevel0_row7\" class=\"row_heading level0 row7\" >8</th>\n",
       "                        <td id=\"T_c78b2be0_7ca9_11ec_8677_2d1ffac598abrow7_col0\" class=\"data row7 col0\" >194.979</td>\n",
       "                        <td id=\"T_c78b2be0_7ca9_11ec_8677_2d1ffac598abrow7_col1\" class=\"data row7 col1\" >27.796</td>\n",
       "                        <td id=\"T_c78b2be0_7ca9_11ec_8677_2d1ffac598abrow7_col2\" class=\"data row7 col2\" >3.39413</td>\n",
       "                        <td id=\"T_c78b2be0_7ca9_11ec_8677_2d1ffac598abrow7_col3\" class=\"data row7 col3\" >0.0275063</td>\n",
       "                        <td id=\"T_c78b2be0_7ca9_11ec_8677_2d1ffac598abrow7_col4\" class=\"data row7 col4\" >112.374</td>\n",
       "                        <td id=\"T_c78b2be0_7ca9_11ec_8677_2d1ffac598abrow7_col5\" class=\"data row7 col5\" >3.29104e-05</td>\n",
       "                        <td id=\"T_c78b2be0_7ca9_11ec_8677_2d1ffac598abrow7_col6\" class=\"data row7 col6\" >3.69829</td>\n",
       "            </tr>\n",
       "            <tr>\n",
       "                        <th id=\"T_c78b2be0_7ca9_11ec_8677_2d1ffac598ablevel0_row8\" class=\"row_heading level0 row8\" >9</th>\n",
       "                        <td id=\"T_c78b2be0_7ca9_11ec_8677_2d1ffac598abrow8_col0\" class=\"data row8 col0\" >195.034</td>\n",
       "                        <td id=\"T_c78b2be0_7ca9_11ec_8677_2d1ffac598abrow8_col1\" class=\"data row8 col1\" >27.7733</td>\n",
       "                        <td id=\"T_c78b2be0_7ca9_11ec_8677_2d1ffac598abrow8_col2\" class=\"data row8 col2\" >9.16763</td>\n",
       "                        <td id=\"T_c78b2be0_7ca9_11ec_8677_2d1ffac598abrow8_col3\" class=\"data row8 col3\" >0.0289249</td>\n",
       "                        <td id=\"T_c78b2be0_7ca9_11ec_8677_2d1ffac598abrow8_col4\" class=\"data row8 col4\" >117.897</td>\n",
       "                        <td id=\"T_c78b2be0_7ca9_11ec_8677_2d1ffac598abrow8_col5\" class=\"data row8 col5\" >8.88918e-05</td>\n",
       "                        <td id=\"T_c78b2be0_7ca9_11ec_8677_2d1ffac598abrow8_col6\" class=\"data row8 col6\" >10.4801</td>\n",
       "            </tr>\n",
       "            <tr>\n",
       "                        <th id=\"T_c78b2be0_7ca9_11ec_8677_2d1ffac598ablevel0_row9\" class=\"row_heading level0 row9\" >10</th>\n",
       "                        <td id=\"T_c78b2be0_7ca9_11ec_8677_2d1ffac598abrow9_col0\" class=\"data row9 col0\" >194.449</td>\n",
       "                        <td id=\"T_c78b2be0_7ca9_11ec_8677_2d1ffac598abrow9_col1\" class=\"data row9 col1\" >27.7694</td>\n",
       "                        <td id=\"T_c78b2be0_7ca9_11ec_8677_2d1ffac598abrow9_col2\" class=\"data row9 col2\" >5.24961</td>\n",
       "                        <td id=\"T_c78b2be0_7ca9_11ec_8677_2d1ffac598abrow9_col3\" class=\"data row9 col3\" >0.0192827</td>\n",
       "                        <td id=\"T_c78b2be0_7ca9_11ec_8677_2d1ffac598abrow9_col4\" class=\"data row9 col4\" >79.2284</td>\n",
       "                        <td id=\"T_c78b2be0_7ca9_11ec_8677_2d1ffac598abrow9_col5\" class=\"data row9 col5\" >5.09016e-05</td>\n",
       "                        <td id=\"T_c78b2be0_7ca9_11ec_8677_2d1ffac598abrow9_col6\" class=\"data row9 col6\" >4.03286</td>\n",
       "            </tr>\n",
       "    </tbody></table>"
      ],
      "text/plain": [
       "<pandas.io.formats.style.Styler at 0x7f41dc08b190>"
      ]
     },
     "execution_count": 16,
     "metadata": {},
     "output_type": "execute_result"
    }
   ],
   "source": [
    "table_coma_galaxies = df_galaxies_coma.head(10)\n",
    "caption = \"Table 4: Datos de galaxias de Coma Cluster, incluyendo su tamaño físico\"\n",
    "table_coma_galaxies.style.set_caption(caption).set_table_styles([tables_style])"
   ]
  },
  {
   "cell_type": "code",
   "execution_count": 17,
   "metadata": {
    "scrolled": true
   },
   "outputs": [
    {
     "data": {
      "text/html": [
       "<style  type=\"text/css\" >\n",
       "    #T_c78b2be1_7ca9_11ec_8677_2d1ffac598ab caption {\n",
       "          caption-side: bottom;\n",
       "          color: black;\n",
       "    }</style><table id=\"T_c78b2be1_7ca9_11ec_8677_2d1ffac598ab\" ><caption>Table 5: Datos de galaxias de Abell85 Cluster, incluyendo su tamaño físico</caption><thead>    <tr>        <th class=\"blank level0\" ></th>        <th class=\"col_heading level0 col0\" >ra [°]</th>        <th class=\"col_heading level0 col1\" >dec [°]</th>        <th class=\"col_heading level0 col2\" >R [asec]</th>        <th class=\"col_heading level0 col3\" >z</th>        <th class=\"col_heading level0 col4\" >Da [Mpc]</th>        <th class=\"col_heading level0 col5\" >θ_diam [rad]</th>        <th class=\"col_heading level0 col6\" >d [kpc]</th>    </tr></thead><tbody>\n",
       "                <tr>\n",
       "                        <th id=\"T_c78b2be1_7ca9_11ec_8677_2d1ffac598ablevel0_row0\" class=\"row_heading level0 row0\" >1</th>\n",
       "                        <td id=\"T_c78b2be1_7ca9_11ec_8677_2d1ffac598abrow0_col0\" class=\"data row0 col0\" >10.2101</td>\n",
       "                        <td id=\"T_c78b2be1_7ca9_11ec_8677_2d1ffac598abrow0_col1\" class=\"data row0 col1\" >-9.22312</td>\n",
       "                        <td id=\"T_c78b2be1_7ca9_11ec_8677_2d1ffac598abrow0_col2\" class=\"data row0 col2\" >2.98555</td>\n",
       "                        <td id=\"T_c78b2be1_7ca9_11ec_8677_2d1ffac598abrow0_col3\" class=\"data row0 col3\" >0.0539636</td>\n",
       "                        <td id=\"T_c78b2be1_7ca9_11ec_8677_2d1ffac598abrow0_col4\" class=\"data row0 col4\" >213.558</td>\n",
       "                        <td id=\"T_c78b2be1_7ca9_11ec_8677_2d1ffac598abrow0_col5\" class=\"data row0 col5\" >2.89487e-05</td>\n",
       "                        <td id=\"T_c78b2be1_7ca9_11ec_8677_2d1ffac598abrow0_col6\" class=\"data row0 col6\" >6.18222</td>\n",
       "            </tr>\n",
       "            <tr>\n",
       "                        <th id=\"T_c78b2be1_7ca9_11ec_8677_2d1ffac598ablevel0_row1\" class=\"row_heading level0 row1\" >2</th>\n",
       "                        <td id=\"T_c78b2be1_7ca9_11ec_8677_2d1ffac598abrow1_col0\" class=\"data row1 col0\" >10.3038</td>\n",
       "                        <td id=\"T_c78b2be1_7ca9_11ec_8677_2d1ffac598abrow1_col1\" class=\"data row1 col1\" >-9.15011</td>\n",
       "                        <td id=\"T_c78b2be1_7ca9_11ec_8677_2d1ffac598abrow1_col2\" class=\"data row1 col2\" >2.40519</td>\n",
       "                        <td id=\"T_c78b2be1_7ca9_11ec_8677_2d1ffac598abrow1_col3\" class=\"data row1 col3\" >0.0530929</td>\n",
       "                        <td id=\"T_c78b2be1_7ca9_11ec_8677_2d1ffac598abrow1_col4\" class=\"data row1 col4\" >210.217</td>\n",
       "                        <td id=\"T_c78b2be1_7ca9_11ec_8677_2d1ffac598abrow1_col5\" class=\"data row1 col5\" >2.33214e-05</td>\n",
       "                        <td id=\"T_c78b2be1_7ca9_11ec_8677_2d1ffac598abrow1_col6\" class=\"data row1 col6\" >4.90255</td>\n",
       "            </tr>\n",
       "            <tr>\n",
       "                        <th id=\"T_c78b2be1_7ca9_11ec_8677_2d1ffac598ablevel0_row2\" class=\"row_heading level0 row2\" >3</th>\n",
       "                        <td id=\"T_c78b2be1_7ca9_11ec_8677_2d1ffac598abrow2_col0\" class=\"data row2 col0\" >10.2578</td>\n",
       "                        <td id=\"T_c78b2be1_7ca9_11ec_8677_2d1ffac598abrow2_col1\" class=\"data row2 col1\" >-9.20921</td>\n",
       "                        <td id=\"T_c78b2be1_7ca9_11ec_8677_2d1ffac598abrow2_col2\" class=\"data row2 col2\" >3.76694</td>\n",
       "                        <td id=\"T_c78b2be1_7ca9_11ec_8677_2d1ffac598abrow2_col3\" class=\"data row2 col3\" >0.0539191</td>\n",
       "                        <td id=\"T_c78b2be1_7ca9_11ec_8677_2d1ffac598abrow2_col4\" class=\"data row2 col4\" >213.558</td>\n",
       "                        <td id=\"T_c78b2be1_7ca9_11ec_8677_2d1ffac598abrow2_col5\" class=\"data row2 col5\" >3.65253e-05</td>\n",
       "                        <td id=\"T_c78b2be1_7ca9_11ec_8677_2d1ffac598abrow2_col6\" class=\"data row2 col6\" >7.80027</td>\n",
       "            </tr>\n",
       "            <tr>\n",
       "                        <th id=\"T_c78b2be1_7ca9_11ec_8677_2d1ffac598ablevel0_row3\" class=\"row_heading level0 row3\" >4</th>\n",
       "                        <td id=\"T_c78b2be1_7ca9_11ec_8677_2d1ffac598abrow3_col0\" class=\"data row3 col0\" >10.5782</td>\n",
       "                        <td id=\"T_c78b2be1_7ca9_11ec_8677_2d1ffac598abrow3_col1\" class=\"data row3 col1\" >-9.25791</td>\n",
       "                        <td id=\"T_c78b2be1_7ca9_11ec_8677_2d1ffac598abrow3_col2\" class=\"data row3 col2\" >3.35948</td>\n",
       "                        <td id=\"T_c78b2be1_7ca9_11ec_8677_2d1ffac598abrow3_col3\" class=\"data row3 col3\" >0.0557585</td>\n",
       "                        <td id=\"T_c78b2be1_7ca9_11ec_8677_2d1ffac598abrow3_col4\" class=\"data row3 col4\" >220.233</td>\n",
       "                        <td id=\"T_c78b2be1_7ca9_11ec_8677_2d1ffac598abrow3_col5\" class=\"data row3 col5\" >3.25744e-05</td>\n",
       "                        <td id=\"T_c78b2be1_7ca9_11ec_8677_2d1ffac598abrow3_col6\" class=\"data row3 col6\" >7.17396</td>\n",
       "            </tr>\n",
       "            <tr>\n",
       "                        <th id=\"T_c78b2be1_7ca9_11ec_8677_2d1ffac598ablevel0_row4\" class=\"row_heading level0 row4\" >5</th>\n",
       "                        <td id=\"T_c78b2be1_7ca9_11ec_8677_2d1ffac598abrow4_col0\" class=\"data row4 col0\" >10.6009</td>\n",
       "                        <td id=\"T_c78b2be1_7ca9_11ec_8677_2d1ffac598abrow4_col1\" class=\"data row4 col1\" >-9.27126</td>\n",
       "                        <td id=\"T_c78b2be1_7ca9_11ec_8677_2d1ffac598abrow4_col2\" class=\"data row4 col2\" >6.37464</td>\n",
       "                        <td id=\"T_c78b2be1_7ca9_11ec_8677_2d1ffac598abrow4_col3\" class=\"data row4 col3\" >0.0605566</td>\n",
       "                        <td id=\"T_c78b2be1_7ca9_11ec_8677_2d1ffac598abrow4_col4\" class=\"data row4 col4\" >237.885</td>\n",
       "                        <td id=\"T_c78b2be1_7ca9_11ec_8677_2d1ffac598abrow4_col5\" class=\"data row4 col5\" >6.18102e-05</td>\n",
       "                        <td id=\"T_c78b2be1_7ca9_11ec_8677_2d1ffac598abrow4_col6\" class=\"data row4 col6\" >14.7037</td>\n",
       "            </tr>\n",
       "            <tr>\n",
       "                        <th id=\"T_c78b2be1_7ca9_11ec_8677_2d1ffac598ablevel0_row5\" class=\"row_heading level0 row5\" >6</th>\n",
       "                        <td id=\"T_c78b2be1_7ca9_11ec_8677_2d1ffac598abrow5_col0\" class=\"data row5 col0\" >10.5307</td>\n",
       "                        <td id=\"T_c78b2be1_7ca9_11ec_8677_2d1ffac598abrow5_col1\" class=\"data row5 col1\" >-9.23847</td>\n",
       "                        <td id=\"T_c78b2be1_7ca9_11ec_8677_2d1ffac598abrow5_col2\" class=\"data row5 col2\" >3.80433</td>\n",
       "                        <td id=\"T_c78b2be1_7ca9_11ec_8677_2d1ffac598abrow5_col3\" class=\"data row5 col3\" >0.0556262</td>\n",
       "                        <td id=\"T_c78b2be1_7ca9_11ec_8677_2d1ffac598abrow5_col4\" class=\"data row5 col4\" >219.862</td>\n",
       "                        <td id=\"T_c78b2be1_7ca9_11ec_8677_2d1ffac598abrow5_col5\" class=\"data row5 col5\" >3.68879e-05</td>\n",
       "                        <td id=\"T_c78b2be1_7ca9_11ec_8677_2d1ffac598abrow5_col6\" class=\"data row5 col6\" >8.11023</td>\n",
       "            </tr>\n",
       "            <tr>\n",
       "                        <th id=\"T_c78b2be1_7ca9_11ec_8677_2d1ffac598ablevel0_row6\" class=\"row_heading level0 row6\" >7</th>\n",
       "                        <td id=\"T_c78b2be1_7ca9_11ec_8677_2d1ffac598abrow6_col0\" class=\"data row6 col0\" >10.3267</td>\n",
       "                        <td id=\"T_c78b2be1_7ca9_11ec_8677_2d1ffac598abrow6_col1\" class=\"data row6 col1\" >-9.48658</td>\n",
       "                        <td id=\"T_c78b2be1_7ca9_11ec_8677_2d1ffac598abrow6_col2\" class=\"data row6 col2\" >2.39092</td>\n",
       "                        <td id=\"T_c78b2be1_7ca9_11ec_8677_2d1ffac598abrow6_col3\" class=\"data row6 col3\" >0.057982</td>\n",
       "                        <td id=\"T_c78b2be1_7ca9_11ec_8677_2d1ffac598abrow6_col4\" class=\"data row6 col4\" >228.351</td>\n",
       "                        <td id=\"T_c78b2be1_7ca9_11ec_8677_2d1ffac598abrow6_col5\" class=\"data row6 col5\" >2.3183e-05</td>\n",
       "                        <td id=\"T_c78b2be1_7ca9_11ec_8677_2d1ffac598abrow6_col6\" class=\"data row6 col6\" >5.29388</td>\n",
       "            </tr>\n",
       "            <tr>\n",
       "                        <th id=\"T_c78b2be1_7ca9_11ec_8677_2d1ffac598ablevel0_row7\" class=\"row_heading level0 row7\" >8</th>\n",
       "                        <td id=\"T_c78b2be1_7ca9_11ec_8677_2d1ffac598abrow7_col0\" class=\"data row7 col0\" >10.3292</td>\n",
       "                        <td id=\"T_c78b2be1_7ca9_11ec_8677_2d1ffac598abrow7_col1\" class=\"data row7 col1\" >-9.38985</td>\n",
       "                        <td id=\"T_c78b2be1_7ca9_11ec_8677_2d1ffac598abrow7_col2\" class=\"data row7 col2\" >5.11585</td>\n",
       "                        <td id=\"T_c78b2be1_7ca9_11ec_8677_2d1ffac598abrow7_col3\" class=\"data row7 col3\" >0.0497457</td>\n",
       "                        <td id=\"T_c78b2be1_7ca9_11ec_8677_2d1ffac598abrow7_col4\" class=\"data row7 col4\" >197.882</td>\n",
       "                        <td id=\"T_c78b2be1_7ca9_11ec_8677_2d1ffac598abrow7_col5\" class=\"data row7 col5\" >4.96046e-05</td>\n",
       "                        <td id=\"T_c78b2be1_7ca9_11ec_8677_2d1ffac598abrow7_col6\" class=\"data row7 col6\" >9.81585</td>\n",
       "            </tr>\n",
       "            <tr>\n",
       "                        <th id=\"T_c78b2be1_7ca9_11ec_8677_2d1ffac598ablevel0_row8\" class=\"row_heading level0 row8\" >9</th>\n",
       "                        <td id=\"T_c78b2be1_7ca9_11ec_8677_2d1ffac598abrow8_col0\" class=\"data row8 col0\" >10.3315</td>\n",
       "                        <td id=\"T_c78b2be1_7ca9_11ec_8677_2d1ffac598abrow8_col1\" class=\"data row8 col1\" >-9.41908</td>\n",
       "                        <td id=\"T_c78b2be1_7ca9_11ec_8677_2d1ffac598abrow8_col2\" class=\"data row8 col2\" >2.2152</td>\n",
       "                        <td id=\"T_c78b2be1_7ca9_11ec_8677_2d1ffac598abrow8_col3\" class=\"data row8 col3\" >0.0546439</td>\n",
       "                        <td id=\"T_c78b2be1_7ca9_11ec_8677_2d1ffac598abrow8_col4\" class=\"data row8 col4\" >216.161</td>\n",
       "                        <td id=\"T_c78b2be1_7ca9_11ec_8677_2d1ffac598abrow8_col5\" class=\"data row8 col5\" >2.14792e-05</td>\n",
       "                        <td id=\"T_c78b2be1_7ca9_11ec_8677_2d1ffac598abrow8_col6\" class=\"data row8 col6\" >4.64296</td>\n",
       "            </tr>\n",
       "            <tr>\n",
       "                        <th id=\"T_c78b2be1_7ca9_11ec_8677_2d1ffac598ablevel0_row9\" class=\"row_heading level0 row9\" >10</th>\n",
       "                        <td id=\"T_c78b2be1_7ca9_11ec_8677_2d1ffac598abrow9_col0\" class=\"data row9 col0\" >10.3406</td>\n",
       "                        <td id=\"T_c78b2be1_7ca9_11ec_8677_2d1ffac598abrow9_col1\" class=\"data row9 col1\" >-9.32862</td>\n",
       "                        <td id=\"T_c78b2be1_7ca9_11ec_8677_2d1ffac598abrow9_col2\" class=\"data row9 col2\" >1.31426</td>\n",
       "                        <td id=\"T_c78b2be1_7ca9_11ec_8677_2d1ffac598abrow9_col3\" class=\"data row9 col3\" >0.0541519</td>\n",
       "                        <td id=\"T_c78b2be1_7ca9_11ec_8677_2d1ffac598abrow9_col4\" class=\"data row9 col4\" >214.305</td>\n",
       "                        <td id=\"T_c78b2be1_7ca9_11ec_8677_2d1ffac598abrow9_col5\" class=\"data row9 col5\" >1.27434e-05</td>\n",
       "                        <td id=\"T_c78b2be1_7ca9_11ec_8677_2d1ffac598abrow9_col6\" class=\"data row9 col6\" >2.73097</td>\n",
       "            </tr>\n",
       "    </tbody></table>"
      ],
      "text/plain": [
       "<pandas.io.formats.style.Styler at 0x7f41dc08b3d0>"
      ]
     },
     "execution_count": 17,
     "metadata": {},
     "output_type": "execute_result"
    }
   ],
   "source": [
    "table_abell85_galaxies = df_galaxies_abell85.head(10)\n",
    "caption = \"Table 5: Datos de galaxias de Abell85 Cluster, incluyendo su tamaño físico\"\n",
    "table_abell85_galaxies.style.set_caption(caption).set_table_styles([tables_style])"
   ]
  },
  {
   "cell_type": "code",
   "execution_count": 18,
   "metadata": {},
   "outputs": [],
   "source": [
    "# function to build Galaxy Sizes Histograms given a pandas DataFrame \n",
    "def galaxy_sizes_histogram(df_group_of_galaxies, max_x_axis=60, size_x_grid_sep=4, \n",
    "                           xrot=0, figure_n=1, galaxy_group_name=\"Field\"):\n",
    "    histogram_field_galaxies = df_group_of_galaxies.hist(\n",
    "        column=\"d [kpc]\", bins=15, range=[0, max_x_axis], \n",
    "        xlabelsize=12, ylabelsize=12, xrot=xrot)\n",
    "\n",
    "    histogram_field_galaxies[0][0].set_title(\n",
    "        \"Figure \" + str(figure_n) + \":  Number of \" \n",
    "        + galaxy_group_name + \" Galaxies = f(d)\")\n",
    "    histogram_field_galaxies[0][0].set_xlabel(\"d [kpc]\")\n",
    "    histogram_field_galaxies[0][0].set_ylabel(\"Number of Galaxies\")\n",
    "\n",
    "    major_ticks = np.arange(0, max_x_axis, size_x_grid_sep)\n",
    "    ax = histogram_field_galaxies[0][0]\n",
    "    ax.set_xticks(major_ticks, minor=False)\n",
    "    ax.set_xlim(0, max_x_axis)"
   ]
  },
  {
   "cell_type": "code",
   "execution_count": 19,
   "metadata": {},
   "outputs": [
    {
     "data": {
      "image/png": "[encoded data removed]",
      "text/plain": [
       "<Figure size 432x288 with 1 Axes>"
      ]
     },
     "metadata": {
      "needs_background": "light"
     },
     "output_type": "display_data"
    }
   ],
   "source": [
    "galaxy_sizes_histogram(df_galaxies_field, max_x_axis=60, xrot=45, \n",
    "                       figure_n=1, galaxy_group_name = \"Field\")"
   ]
  },
  {
   "cell_type": "code",
   "execution_count": 20,
   "metadata": {},
   "outputs": [
    {
     "data": {
      "image/png": "[encoded data removed]",
      "text/plain": [
       "<Figure size 432x288 with 1 Axes>"
      ]
     },
     "metadata": {
      "needs_background": "light"
     },
     "output_type": "display_data"
    }
   ],
   "source": [
    "galaxy_sizes_histogram(df_galaxies_virgo, max_x_axis=15, size_x_grid_sep=1, \n",
    "                       xrot=45, figure_n=2, galaxy_group_name = \"Virgo Cluster\")"
   ]
  },
  {
   "cell_type": "code",
   "execution_count": 21,
   "metadata": {},
   "outputs": [
    {
     "data": {
      "image/png": "[encoded data removed]",
      "text/plain": [
       "<Figure size 432x288 with 1 Axes>"
      ]
     },
     "metadata": {
      "needs_background": "light"
     },
     "output_type": "display_data"
    }
   ],
   "source": [
    "galaxy_sizes_histogram(df_galaxies_coma, max_x_axis=45, size_x_grid_sep=3, \n",
    "                       xrot=45, figure_n=3, galaxy_group_name = \"Coma Cluster\")"
   ]
  },
  {
   "cell_type": "code",
   "execution_count": 22,
   "metadata": {},
   "outputs": [
    {
     "data": {
      "image/png": "[encoded data removed]",
      "text/plain": [
       "<Figure size 432x288 with 1 Axes>"
      ]
     },
     "metadata": {
      "needs_background": "light"
     },
     "output_type": "display_data"
    }
   ],
   "source": [
    "galaxy_sizes_histogram(df_galaxies_abell85, max_x_axis=75, size_x_grid_sep=5, \n",
    "                       xrot=45, figure_n=4, galaxy_group_name = \"Abell85 Cluster\")"
   ]
  },
  {
   "cell_type": "code",
   "execution_count": 23,
   "metadata": {},
   "outputs": [],
   "source": [
    "# Constructing a pandas DataFrame with all the galaxy sizes\n",
    "\n",
    "field_galaxy_sizes = list(df_galaxies_field['d [kpc]'])\n",
    "virgo_galaxy_sizes = list(df_galaxies_virgo['d [kpc]'])\n",
    "coma_galaxy_sizes = list(df_galaxies_coma['d [kpc]'])\n",
    "abell85_galaxy_sizes = list(df_galaxies_abell85['d [kpc]'])\n",
    "\n",
    "all_galaxy_sizes = (field_galaxy_sizes + virgo_galaxy_sizes \n",
    "                    + coma_galaxy_sizes + abell85_galaxy_sizes)\n",
    "\n",
    "df_all_galaxies = pd.DataFrame(all_galaxy_sizes, columns=[\"d [kpc]\"])"
   ]
  },
  {
   "cell_type": "code",
   "execution_count": 24,
   "metadata": {},
   "outputs": [
    {
     "data": {
      "image/png": "[encoded data removed]",
      "text/plain": [
       "<Figure size 432x288 with 1 Axes>"
      ]
     },
     "metadata": {
      "needs_background": "light"
     },
     "output_type": "display_data"
    }
   ],
   "source": [
    "# Pandas histogram with all the galaxy sizes\n",
    "\n",
    "galaxy_sizes_histogram(df_all_galaxies, max_x_axis=60, size_x_grid_sep=4, \n",
    "                       xrot=45, figure_n=5, galaxy_group_name = \"\")"
   ]
  },
  {
   "cell_type": "code",
   "execution_count": 25,
   "metadata": {},
   "outputs": [],
   "source": [
    "# Statistical study of galaxy sizes for the sample of 380 galaxies in this work \n",
    "# Results are given by cluster/field galaxies and finally the global numbers are computed"
   ]
  },
  {
   "cell_type": "code",
   "execution_count": 26,
   "metadata": {},
   "outputs": [],
   "source": [
    "# Statistical study of galaxy sizes [kpc] for Field Galaxies\n",
    "\n",
    "def avg_std_galaxy_sizes(group_galaxy_sizes, group_str = \"Field\"):\n",
    "    avg_group_galaxy_sizes = \"{0:.2f}\".format(np.average(group_galaxy_sizes))\n",
    "    std_group_galaxy_sizes = \"{0:.2f}\".format(np.std(group_galaxy_sizes))\n",
    "\n",
    "    print(\"Average of \" + group_str + \" Galaxy Sizes:\")\n",
    "    print(avg_group_galaxy_sizes)\n",
    "    print()\n",
    "    print(\"Standard Deviation of \" + group_str + \" Galaxy Sizes:\")\n",
    "    print(std_group_galaxy_sizes)"
   ]
  },
  {
   "cell_type": "code",
   "execution_count": 27,
   "metadata": {},
   "outputs": [
    {
     "name": "stdout",
     "output_type": "stream",
     "text": [
      "Average of Field Galaxy Sizes:\n",
      "19.09\n",
      "\n",
      "Standard Deviation of Field Galaxy Sizes:\n",
      "11.77\n"
     ]
    }
   ],
   "source": [
    "# Statistical study of galaxy sizes [kpc] for Field Cluster\n",
    "avg_std_galaxy_sizes(field_galaxy_sizes, group_str = \"Field\")"
   ]
  },
  {
   "cell_type": "code",
   "execution_count": 28,
   "metadata": {},
   "outputs": [
    {
     "name": "stdout",
     "output_type": "stream",
     "text": [
      "Average of Virgo Cluster Galaxy Sizes:\n",
      "3.76\n",
      "\n",
      "Standard Deviation of Virgo Cluster Galaxy Sizes:\n",
      "2.39\n"
     ]
    }
   ],
   "source": [
    "# Statistical study of galaxy sizes [kpc] for Virgo Cluster\n",
    "avg_std_galaxy_sizes(virgo_galaxy_sizes, group_str = \"Virgo Cluster\")"
   ]
  },
  {
   "cell_type": "code",
   "execution_count": 29,
   "metadata": {},
   "outputs": [
    {
     "name": "stdout",
     "output_type": "stream",
     "text": [
      "Average of Coma Cluster Galaxy Sizes:\n",
      "7.55\n",
      "\n",
      "Standard Deviation of Coma Cluster Galaxy Sizes:\n",
      "4.42\n"
     ]
    }
   ],
   "source": [
    "# Statistical study of galaxy sizes [kpc] for Coma Cluster\n",
    "avg_std_galaxy_sizes(coma_galaxy_sizes, group_str = \"Coma Cluster\")"
   ]
  },
  {
   "cell_type": "code",
   "execution_count": 30,
   "metadata": {},
   "outputs": [
    {
     "name": "stdout",
     "output_type": "stream",
     "text": [
      "Average of Abell85 Cluster Galaxy Sizes:\n",
      "6.68\n",
      "\n",
      "Standard Deviation of Abell85 Cluster Galaxy Sizes:\n",
      "7.13\n"
     ]
    }
   ],
   "source": [
    "# Statistical study of galaxy sizes [kpc] for Abell85 Cluster\n",
    "avg_std_galaxy_sizes(abell85_galaxy_sizes, group_str = \"Abell85 Cluster\")"
   ]
  },
  {
   "cell_type": "code",
   "execution_count": 31,
   "metadata": {},
   "outputs": [
    {
     "name": "stdout",
     "output_type": "stream",
     "text": [
      "Average of All Galaxy Sizes:\n",
      "9.41\n",
      "\n",
      "Standard Deviation of All Galaxy Sizes:\n",
      "9.45\n"
     ]
    }
   ],
   "source": [
    "# Global galaxy sizes [kpc] statistical study for the 380 galaxies of our sample\n",
    "avg_std_galaxy_sizes(all_galaxy_sizes, group_str = \"All\")"
   ]
  },
  {
   "cell_type": "code",
   "execution_count": null,
   "metadata": {},
   "outputs": [],
   "source": []
  },
  {
   "cell_type": "code",
   "execution_count": null,
   "metadata": {},
   "outputs": [],
   "source": []
  }
 ],
 "metadata": {
  "kernelspec": {
   "display_name": "Python 3",
   "language": "python",
   "name": "python3"
  },
  "language_info": {
   "codemirror_mode": {
    "name": "ipython",
    "version": 3
   },
   "file_extension": ".py",
   "mimetype": "text/x-python",
   "name": "python",
   "nbconvert_exporter": "python",
   "pygments_lexer": "ipython3",
   "version": "3.8.10"
  }
 },
 "nbformat": 4,
 "nbformat_minor": 4
}
